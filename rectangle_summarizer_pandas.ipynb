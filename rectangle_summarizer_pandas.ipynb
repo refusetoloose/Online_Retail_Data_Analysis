{
 "cells": [
  {
   "cell_type": "code",
   "execution_count": null,
   "id": "8a4db186-e6ec-4532-9529-92967f6f146c",
   "metadata": {},
   "outputs": [],
   "source": [
    "# %% import pandas and read the csv file \n",
    "\n",
    "# modify the path if needed\n",
    "import pandas as pd\n",
    "\n",
    "df = pd.read_csv(\"rectangles.csv\")\n",
    "df[\"area\"] = df[\"width\"] * df[\"length\"]"
   ]
  },
  {
   "cell_type": "code",
   "execution_count": null,
   "id": "c0914e02-59e3-4b12-820c-83fcc770c684",
   "metadata": {},
   "outputs": [
    {
     "name": "stdout",
     "output_type": "stream",
     "text": [
      "Total Count: 10000\n",
      "Total Area: 25030733.669409875\n",
      "Average Area: 2503.0733669409874\n",
      "Maximum Area: 9874.610465755648\n",
      "Minimum Area: 0.06436022891535075\n"
     ]
    }
   ],
   "source": [
    "# %%\n",
    "\n",
    "summary = [\n",
    "    (\"Total Count\", df[\"area\"].shape[0]),\n",
    "    (\"Total Area\", df[\"area\"].sum()),\n",
    "    (\"Average Area\", df[\"area\"].mean()),\n",
    "    (\"Maximum Area\", df[\"area\"].max()),\n",
    "    (\"Minimum Area\", df[\"area\"].min()),\n",
    "]\n",
    "\n",
    "for key, value in summary:\n",
    "    print(f\"{key}: {str(value)}\")"
   ]
  },
  {
   "cell_type": "code",
   "execution_count": null,
   "id": "e46c0986-f2cf-4c72-86dd-30069eb91f9c",
   "metadata": {},
   "outputs": [],
   "source": [
    "# %%\n",
    "\n",
    "pd.DataFrame(dict(summary), index=[0]).to_csv('summary.csv', index=False)"
   ]
  }
 ],
 "metadata": {
  "language_info": {
   "codemirror_mode": {
    "name": "ipython",
    "version": 3
   },
   "file_extension": ".py",
   "mimetype": "text/x-python",
   "name": "python",
   "nbconvert_exporter": "python",
   "pygments_lexer": "ipython3",
   "version": 3
  }
 },
 "nbformat": 4,
 "nbformat_minor": 2
}
